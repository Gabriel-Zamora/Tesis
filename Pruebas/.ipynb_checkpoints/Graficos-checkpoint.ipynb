{
 "cells": [
  {
   "cell_type": "code",
   "execution_count": 1,
   "metadata": {},
   "outputs": [
    {
     "name": "stderr",
     "output_type": "stream",
     "text": [
      "┌ Info: Recompiling stale cache file C:\\Users\\gz_am\\.julia\\compiled\\v1.1\\Plots\\ld3vC.ji for Plots [91a5bcdd-55d7-5caf-9e0b-520d859cae80]\n",
      "└ @ Base loading.jl:1184\n"
     ]
    }
   ],
   "source": [
    "using Plots"
   ]
  },
  {
   "cell_type": "code",
   "execution_count": 9,
   "metadata": {},
   "outputs": [],
   "source": [
    "Z = [9, 16, 25, 36, 49, 64, 81, 100]\n",
    "BB = [900,2500,5625,11025,19600,32400,50625,75625]\n",
    "CG = [400, 1250, 3225, 3850, 8325, 1000, 1000, 1000]\n",
    "BP = [1, 20, 200, 2000, 2000, 2000, 2000, 2000 ]\n",
    "\n",
    "plot(Z,[BB CG BP],\n",
    "    label = [\"Branch and bound\",\"Column generation\",\"Branch and price\"],xlabel=\"Amount of sample points\",xticks=Z,\n",
    "#    title = ,\n",
    "    ylabel=\"Number of variables\",\n",
    "    dpi=200,lw=2,\n",
    "    background_color = :transparent,\n",
    "    legend=:bottomright)\n",
    "\n",
    "savefig(\"C:/Users/gz_am/Dropbox/u/Proyecto de Tésis/Julia JuMP 0.19/Tesis/Pruebas/var.png\")"
   ]
  },
  {
   "cell_type": "code",
   "execution_count": 8,
   "metadata": {},
   "outputs": [],
   "source": [
    "Z = [9, 16, 25, 36, 49, 64, 81, 100]\n",
    "BB = [3911, 20718, 83202, 270077, 745635, 1816626, 4010258, 8176677]\n",
    "CG = [1067, 5328, 26646, 28964, 113826, 1000, 1000, 1000 ]\n",
    "BP = [1, 20, 200, 2000, 2000, 2000, 2000, 2000 ]\n",
    "\n",
    "plot(Z,[BB CG BP],\n",
    "    label = [\"Branch and bound\",\"Column generation\",\"Branch and price\"],xlabel=\"Amount of sample points\",xticks=Z,\n",
    "#    title = ,\n",
    "    ylabel=\"Number of constraints\",\n",
    "    dpi=200, lw=2,\n",
    "    background_color = :transparent,\n",
    "    legend=:bottomright)\n",
    "\n",
    "savefig(\"C:/Users/gz_am/Dropbox/u/Proyecto de Tésis/Julia JuMP 0.19/Tesis/Pruebas/res.png\")"
   ]
  },
  {
   "cell_type": "code",
   "execution_count": 7,
   "metadata": {
    "scrolled": false
   },
   "outputs": [],
   "source": [
    "Z = [9, 16, 25, 36, 49, 64, 81, 100]\n",
    "BB = [2, 7, 2784, 0, 0, 0, 0, 0 ]\n",
    "CG = [7, 9, 209, 271, 1134, 0, 0, 0]\n",
    "BP = [20, 20, 20, 20, 20, 20, 20, 20]\n",
    "\n",
    "plot(Z, BB)\n",
    "\n",
    "graf = plot(Z,[BB CG BP],\n",
    "    label = [\"Branch and bound\",\"Column generation\",\"Branch and price\"],xlabel=\"Amount of sample points\",xticks=Z,\n",
    "#    title = ,\n",
    "    ylabel=\"Computation time\",\n",
    "    dpi=200,lw=2,\n",
    "    background_color = :transparent,\n",
    "    legend=:bottomright)\n",
    "\n",
    "savefig(\"C:/Users/gz_am/Dropbox/u/Proyecto de Tésis/Julia JuMP 0.19/Tesis/Pruebas/tie.png\")"
   ]
  },
  {
   "cell_type": "code",
   "execution_count": null,
   "metadata": {},
   "outputs": [],
   "source": []
  },
  {
   "cell_type": "code",
   "execution_count": null,
   "metadata": {},
   "outputs": [],
   "source": []
  }
 ],
 "metadata": {
  "@webio": {
   "lastCommId": null,
   "lastKernelId": null
  },
  "kernelspec": {
   "display_name": "Julia 1.1.0",
   "language": "julia",
   "name": "julia-1.1"
  },
  "language_info": {
   "file_extension": ".jl",
   "mimetype": "application/julia",
   "name": "julia",
   "version": "1.1.0"
  }
 },
 "nbformat": 4,
 "nbformat_minor": 2
}
