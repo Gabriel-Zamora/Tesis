{
 "cells": [
  {
   "cell_type": "code",
   "execution_count": 1,
   "metadata": {},
   "outputs": [],
   "source": [
    "using Plots"
   ]
  },
  {
   "cell_type": "code",
   "execution_count": 14,
   "metadata": {},
   "outputs": [],
   "source": [
    "Z = [9, 16, 25, 36, 49, 64, 81, 100]\n",
    "BB = [900,2500,5625,11025,19600,32400,50625,75625]\n",
    "CG = [1, 10, 100, 1000, 1000, 1000, 1000, 1000 ]\n",
    "BP = [1, 20, 200, 2000, 2000, 2000, 2000, 2000 ]\n",
    "\n",
    "plot(Z,[BB CG BP],\n",
    "    label = [\"Branch and bound\",\"Column generation\",\"Branch and price\"],xlabel=\"Amount of sample points\",xticks=Z,\n",
    "#    title = ,\n",
    "    ylabel=\"Number of variables\",\n",
    "    dpi=200,lw=2,\n",
    "    background_color = :transparent,\n",
    "    legend=:bottomright)\n",
    "\n",
    "savefig(\"C:/Users/gz_am/Dropbox/u/Proyecto de Tésis/Julia JuMP 0.19/Tesis/Pruebas/var.png\")"
   ]
  },
  {
   "cell_type": "code",
   "execution_count": 15,
   "metadata": {},
   "outputs": [],
   "source": [
    "Z = [9, 16, 25, 36, 49, 64, 81, 100]\n",
    "BB = [3911, 20718, 83202, 270077, 745635, 1816626, 4010258, 8176677]\n",
    "CG = [1, 10, 100, 1000, 1000, 1000, 1000, 1000 ]\n",
    "BP = [1, 20, 200, 2000, 2000, 2000, 2000, 2000 ]\n",
    "\n",
    "plot(Z,[BB CG BP],\n",
    "    label = [\"Branch and bound\",\"Column generation\",\"Branch and price\"],xlabel=\"Amount of sample points\",xticks=Z,\n",
    "#    title = ,\n",
    "    ylabel=\"Number of constraints\",\n",
    "    dpi=200, lw=2,\n",
    "    background_color = :transparent,\n",
    "    legend=:bottomright)\n",
    "\n",
    "savefig(\"C:/Users/gz_am/Dropbox/u/Proyecto de Tésis/Julia JuMP 0.19/Tesis/Pruebas/res.png\")"
   ]
  },
  {
   "cell_type": "code",
   "execution_count": 21,
   "metadata": {
    "scrolled": false
   },
   "outputs": [
    {
     "data": {
      "text/plain": [
       "5-element Array{Int64,1}:\n",
       "  9\n",
       " 16\n",
       " 25\n",
       " 36\n",
       " 49"
      ]
     },
     "execution_count": 21,
     "metadata": {},
     "output_type": "execute_result"
    }
   ],
   "source": [
    "Z = [9, 16, 25, 36, 49, 64, 81, 100]\n",
    "BB = [0.5, 5.3, 225, 441, 784, 0, 0, 0 ]\n",
    "CG = [1, 10, 100, 1000, 1000, 1000, 1000, 1000 ]\n",
    "BP = [1, 20, 200, 2000, 2000, 2000, 2000, 2000 ]\n",
    "\n",
    "plot(Z, BB)\n",
    "\n",
    "graf = plot(Z,[BB CG BP],\n",
    "    label = [\"Branch and bound\",\"Column generation\",\"Branch and price\"],xlabel=\"Amount of sample points\",xticks=Z,\n",
    "#    title = ,\n",
    "    ylabel=\"Computation time\",\n",
    "    dpi=200,lw=2,\n",
    "    background_color = :transparent,\n",
    "    legend=:bottomright)\n",
    "\n",
    "savefig(\"C:/Users/gz_am/Dropbox/u/Proyecto de Tésis/Julia JuMP 0.19/Tesis/Pruebas/tie.png\")"
   ]
  },
  {
   "cell_type": "code",
   "execution_count": null,
   "metadata": {},
   "outputs": [],
   "source": []
  },
  {
   "cell_type": "code",
   "execution_count": null,
   "metadata": {},
   "outputs": [],
   "source": []
  }
 ],
 "metadata": {
  "@webio": {
   "lastCommId": null,
   "lastKernelId": null
  },
  "kernelspec": {
   "display_name": "Julia 1.1.0",
   "language": "julia",
   "name": "julia-1.1"
  },
  "language_info": {
   "file_extension": ".jl",
   "mimetype": "application/julia",
   "name": "julia",
   "version": "1.1.0"
  }
 },
 "nbformat": 4,
 "nbformat_minor": 2
}
