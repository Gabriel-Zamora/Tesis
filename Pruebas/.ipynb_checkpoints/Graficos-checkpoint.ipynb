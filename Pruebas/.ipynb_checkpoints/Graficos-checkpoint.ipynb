{
 "cells": [
  {
   "cell_type": "code",
   "execution_count": 1,
   "metadata": {},
   "outputs": [],
   "source": [
    "using Plots\n",
    "using StatsPlots"
   ]
  },
  {
   "cell_type": "code",
   "execution_count": null,
   "metadata": {},
   "outputs": [],
   "source": []
  },
  {
   "cell_type": "code",
   "execution_count": 4,
   "metadata": {},
   "outputs": [],
   "source": [
    "Z = [10,15,20,25,30,35,40,45,50,55,60,65,70,75,80,85,90,95,100]\n",
    "BB = log10.([1125,2250,3750,5625,7875,10500,13500,16875,20625,24750,29250,34125,39375,45000,51000,57375,64125,71250,78750])\n",
    "CG = log10.([400,550,850,1525,1350,1425,1650,2125,2300,2425,2600,2475,2725,2800,3125,3300,3150,3500,3475])\n",
    "\n",
    "\n",
    "groupedbar(Z, [BB CG], #BP],\n",
    "    label = [\"Modelo integrado\" \"Column generation\"],#,\"Branch and price\"],\n",
    "    xlabel=\"Cantidad de puntos muestrales\",xticks=Z,\n",
    "#    title = ,\n",
    "    ylabel=\"Log número de variables\",\n",
    "    dpi=200,lw=2,\n",
    "#    background_color = :transparent,\n",
    "    legend=:topleft)\n",
    "\n",
    "savefig(pwd()*\"/var.png\")"
   ]
  },
  {
   "cell_type": "code",
   "execution_count": 5,
   "metadata": {},
   "outputs": [],
   "source": [
    "Z = [10,15,20,25,30,35,40,45,50,55,60,65,70,75,80,85,90,95,100]\n",
    "BB = log10.([5307,17207,41272,83202,149657,248257,387582,577172,827527,1150107,1557332,2062582,2680197,3425477,4314682,5365032,6594707,8022847,9669552])\n",
    "CG = log10.([1032,1523,2800,6930,4946,4996,6060,9266,10180,10896,12134,10420,11091,11501,14269,15483,12830,15649,14799])\n",
    "\n",
    "groupedbar(Z,[BB CG],# BP],\n",
    "    label = [\"Modelo integrado\" \"Column generation\"],#,\"Branch and price\"],\n",
    "    xlabel=\"Cantidad de puntos muestrales\",xticks=Z,\n",
    "#    title = ,\n",
    "    ylabel=\"Log número de restricciones\",\n",
    "    dpi=200, lw=2,\n",
    "#    background_color = :transparent,\n",
    "    legend=:topleft)\n",
    "\n",
    "savefig(pwd()*\"/res.png\")"
   ]
  },
  {
   "cell_type": "code",
   "execution_count": null,
   "metadata": {},
   "outputs": [],
   "source": []
  },
  {
   "cell_type": "code",
   "execution_count": 6,
   "metadata": {},
   "outputs": [],
   "source": [
    "Z = [10,15,20,25,30,35,40,45,50,55,60,65,70,75,80,85,90,95,100]\n",
    "BB = [1125,2250,3750,5625,7875,10500,13500,16875,20625,24750,29250,34125,39375,45000,51000,57375,64125,71250,78750]\n",
    "\n",
    "\n",
    "bar(Z, BB,\n",
    "    label = \"Modelo integrado\",\n",
    "    xlabel=\"Cantidad de puntos muestrales\", xticks=Z,\n",
    "#    title = ,\n",
    "    ylabel= \"Número de variables\",\n",
    "    dpi=200,lw=2,\n",
    "    color = palette(:default)[2],\n",
    "#    background_color = :transparent,\n",
    "    legend=:topleft)\n",
    "\n",
    "savefig(pwd()*\"/modelvar.png\")"
   ]
  },
  {
   "cell_type": "code",
   "execution_count": 7,
   "metadata": {},
   "outputs": [],
   "source": [
    "Z = [10,15,20,25,30,35,40,45,50,55,60,65,70,75,80,85,90,95,100]\n",
    "BB = [5307,17207,41272,83202,149657,248257,387582,577172,827527,1150107,1557332,2062582,2680197,3425477,4314682,5365032,6594707,8022847,9669552]\n",
    "\n",
    "\n",
    "bar(Z, BB,\n",
    "    label = \"Modelo integrado\",\n",
    "    xlabel=\"Cantidad de puntos muestrales\", xticks=Z,\n",
    "#    title = ,\n",
    "    ylabel= \"Número de restricciones\",\n",
    "    dpi=200,lw=2,\n",
    "    color = palette(:default)[2],\n",
    "#    background_color = :transparent,\n",
    "    legend=:topleft)\n",
    "\n",
    "savefig(pwd()*\"/modelres.png\")"
   ]
  },
  {
   "cell_type": "code",
   "execution_count": null,
   "metadata": {},
   "outputs": [],
   "source": []
  }
 ],
 "metadata": {
  "@webio": {
   "lastCommId": null,
   "lastKernelId": null
  },
  "kernelspec": {
   "display_name": "Julia 1.4.2",
   "language": "julia",
   "name": "julia-1.4"
  },
  "language_info": {
   "file_extension": ".jl",
   "mimetype": "application/julia",
   "name": "julia",
   "version": "1.4.2"
  }
 },
 "nbformat": 4,
 "nbformat_minor": 2
}
