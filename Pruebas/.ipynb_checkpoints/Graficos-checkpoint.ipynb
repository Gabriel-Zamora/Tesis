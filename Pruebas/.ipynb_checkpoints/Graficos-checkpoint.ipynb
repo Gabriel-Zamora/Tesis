{
 "cells": [
  {
   "cell_type": "code",
   "execution_count": 1,
   "metadata": {},
   "outputs": [
    {
     "name": "stderr",
     "output_type": "stream",
     "text": [
      "┌ Info: Recompiling stale cache file C:\\Users\\gz_am\\.julia\\compiled\\v1.1\\Plots\\ld3vC.ji for Plots [91a5bcdd-55d7-5caf-9e0b-520d859cae80]\n",
      "└ @ Base loading.jl:1184\n",
      "┌ Info: Recompiling stale cache file C:\\Users\\gz_am\\.julia\\compiled\\v1.1\\StatsPlots\\SiylL.ji for StatsPlots [f3b207a7-027a-5e70-b257-86293d7955fd]\n",
      "└ @ Base loading.jl:1184\n"
     ]
    }
   ],
   "source": [
    "using Plots\n",
    "using StatsPlots"
   ]
  },
  {
   "cell_type": "code",
   "execution_count": null,
   "metadata": {},
   "outputs": [],
   "source": []
  },
  {
   "cell_type": "code",
   "execution_count": 2,
   "metadata": {},
   "outputs": [],
   "source": [
    "Z = [10,15,20,25,30,35,40,45,50]\n",
    "BB = [1125,2250,3750,5625,7875,10500,13500,16875,20625]\n",
    "CG = [325,1300,575,3225,3175,2775,3525,8075,5600]\n",
    "BP = [950,1250,2550,4875,3375,6150, 2775, 4550,3625]\n",
    "\n",
    "groupedbar(Z,[BB CG], #BP],\n",
    "    label = [\"Branch and bound\",\"Generación de columnas\"],#,\"Branch and price\"],\n",
    "    xlabel=\"Cantidad de puntos muestrales\",xticks=Z,\n",
    "#    title = ,\n",
    "    ylabel=\"Número de variables\",\n",
    "    dpi=200,lw=2,\n",
    "    background_color = :transparent,\n",
    "    legend=:topleft)\n",
    "\n",
    "savefig(\"C:/Users/gz_am/Dropbox/u/Proyecto de Tésis/Julia JuMP 0.19/Tesis/Pruebas/var.png\")"
   ]
  },
  {
   "cell_type": "code",
   "execution_count": 3,
   "metadata": {},
   "outputs": [],
   "source": [
    "Z = [10,15,20,25,30,35,40,45,50]\n",
    "BB = [5307,17207,41272,83202,149657,248257,387582,577172,827527]\n",
    "CG = [723,6521,1387,26646,22469,14230,20661,109976,46660]\n",
    "BP = [3798,5999,17488,64536,26765,86347,13803,42737,25243]\n",
    "\n",
    "groupedbar(Z,[BB CG],# BP],\n",
    "    label = [\"Branch and bound\",\"Generación de columnas\"],#,\"Branch and price\"],\n",
    "    xlabel=\"Cantidad de puntos muestrales\",xticks=Z,\n",
    "#    title = ,\n",
    "    ylabel=\"Número de restricciones\",\n",
    "    dpi=200, lw=2,\n",
    "    background_color = :transparent,\n",
    "    legend=:topleft)\n",
    "\n",
    "savefig(\"C:/Users/gz_am/Dropbox/u/Proyecto de Tésis/Julia JuMP 0.19/Tesis/Pruebas/res.png\")"
   ]
  },
  {
   "cell_type": "code",
   "execution_count": 75,
   "metadata": {
    "scrolled": false
   },
   "outputs": [],
   "source": [
    "Z = [10,15,20,25,30,35,40,45,50]\n",
    "BB = log.([6,6,21,2784,385,3561,10000,10000,10000])\n",
    "CG = log.([9,6,20,216,56,91,57,4457,35])\n",
    "BP = log.([8,15,35,578,484,562,18,62,26])\n",
    "\n",
    "plot(Z, BB)\n",
    "\n",
    "groupedbar(Z,[BB CG BP],\n",
    "    label = [\"Branch and bound\",\"Column generation\",\"Branch and price\"],xlabel=\"Amount of sample points\",xticks=Z,\n",
    "#    title = ,\n",
    "    ylabel=\"Log computation time\",\n",
    "    dpi=200,lw=2,\n",
    "    background_color = :transparent,\n",
    "    legend=:topleft)\n",
    "\n",
    "savefig(\"C:/Users/gz_am/Dropbox/u/Proyecto de Tésis/Julia JuMP 0.19/Tesis/Pruebas/tie.png\")"
   ]
  },
  {
   "cell_type": "code",
   "execution_count": 60,
   "metadata": {},
   "outputs": [
    {
     "data": {
      "text/plain": [
       "0.6931471805599453"
      ]
     },
     "execution_count": 60,
     "metadata": {},
     "output_type": "execute_result"
    }
   ],
   "source": [
    "log(2)"
   ]
  },
  {
   "cell_type": "code",
   "execution_count": null,
   "metadata": {},
   "outputs": [],
   "source": []
  },
  {
   "cell_type": "code",
   "execution_count": null,
   "metadata": {},
   "outputs": [],
   "source": []
  },
  {
   "cell_type": "code",
   "execution_count": null,
   "metadata": {},
   "outputs": [],
   "source": []
  },
  {
   "cell_type": "code",
   "execution_count": null,
   "metadata": {},
   "outputs": [],
   "source": []
  },
  {
   "cell_type": "code",
   "execution_count": null,
   "metadata": {},
   "outputs": [],
   "source": []
  },
  {
   "cell_type": "code",
   "execution_count": null,
   "metadata": {},
   "outputs": [],
   "source": []
  }
 ],
 "metadata": {
  "@webio": {
   "lastCommId": null,
   "lastKernelId": null
  },
  "kernelspec": {
   "display_name": "Julia 1.1.0",
   "language": "julia",
   "name": "julia-1.1"
  },
  "language_info": {
   "file_extension": ".jl",
   "mimetype": "application/julia",
   "name": "julia",
   "version": "1.1.0"
  }
 },
 "nbformat": 4,
 "nbformat_minor": 2
}
