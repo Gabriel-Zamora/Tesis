{
 "cells": [
  {
   "cell_type": "code",
   "execution_count": 1,
   "metadata": {},
   "outputs": [],
   "source": [
    "using Plots\n",
    "using StatsPlots"
   ]
  },
  {
   "cell_type": "code",
   "execution_count": null,
   "metadata": {},
   "outputs": [],
   "source": []
  },
  {
   "cell_type": "code",
   "execution_count": 25,
   "metadata": {},
   "outputs": [],
   "source": [
    "Z = [10,15,20,25,30,35,40,45,50,55,60,65,70,75,80,85,90,95,100]\n",
    "BB = [315,630,1050,1575,2205,2940,3780,4725,5775,6930,8190,9555,11025,12600,14280,16065,17955,19950,22050]\n",
    "CG = [112,168,231,427,427,469,539,630,672,721,756,714,945,938,1022,1099,1169,1211,1134]\n",
    "\n",
    "groupedbar(Z,[BB CG], #BP],\n",
    "    label = [\"Branch and bound\",\"Column-and-row generation\"],#,\"Branch and price\"],\n",
    "    xlabel=\"Amount of sample points\",xticks=Z,\n",
    "#    title = ,\n",
    "    ylabel=\"number of variables\",\n",
    "    dpi=200,lw=2,\n",
    "#    background_color = :transparent,\n",
    "    legend=:topleft)\n",
    "\n",
    "savefig(\"C:/Users/gz_am/Dropbox/u/Proyecto de Tésis/Julia JuMP 0.19/Tesis/Pruebas/var.png\")"
   ]
  },
  {
   "cell_type": "code",
   "execution_count": 22,
   "metadata": {},
   "outputs": [],
   "source": [
    "Z = [10,15,20,25,30,35,40,45,50,55,60,65,70,75,80,85,90,95,100]\n",
    "BB = log.([1257,4157,10072,20427,36887,61357,95982,143147,205477,285837,387332,513307,667347,853277,1075162,1337307,1644257,2000797,2411952])\n",
    "CG = log.([233,395,604,1667,1483,1662,2047,2495,2620,2942,2861,2518,4335,3930,4721,5192,5721,6020,5079])\n",
    "\n",
    "groupedbar(Z,[BB CG],# BP],\n",
    "    label = [\"Branch and bound\",\"Column-and-row generation\"],#,\"Branch and price\"],\n",
    "    xlabel=\"Amount of sample points\",xticks=Z,\n",
    "#    title = ,\n",
    "    ylabel=\"Log number of constraints\",\n",
    "    dpi=200, lw=2,\n",
    "#    background_color = :transparent,\n",
    "    legend=:topleft)\n",
    "\n",
    "savefig(\"C:/Users/gz_am/Dropbox/u/Proyecto de Tésis/Julia JuMP 0.19/Tesis/Pruebas/res.png\")"
   ]
  },
  {
   "cell_type": "code",
   "execution_count": 21,
   "metadata": {
    "scrolled": false
   },
   "outputs": [],
   "source": [
    "Z = [10,15,20,25,30,35,40,45,50,55,60,65,70]\n",
    "BB = log.([2,2,2,5,9,46,211,584,1009,5215,5091,1148,17944]) \n",
    "CG = log.([4,4,5,5,9,14,12,7,9,13,22,11,97])\n",
    "\n",
    "plot(Z, BB)\n",
    "\n",
    "groupedbar(Z,[BB CG],# BP],\n",
    "    label = [\"Branch and bound\",\"Column-and-row generation\"],#,\"Branch and price\"],\n",
    "    xlabel=\"Amount of sample points\",xticks=Z,\n",
    "#    title = ,\n",
    "    ylabel=\"Log computation time\",\n",
    "    dpi=200,lw=2,\n",
    "#    background_color = :transparent,\n",
    "    legend=:topleft)\n",
    "\n",
    "savefig(\"C:/Users/gz_am/Dropbox/u/Proyecto de Tésis/Julia JuMP 0.19/Tesis/Pruebas/tie.png\")"
   ]
  },
  {
   "cell_type": "code",
   "execution_count": null,
   "metadata": {},
   "outputs": [],
   "source": []
  }
 ],
 "metadata": {
  "@webio": {
   "lastCommId": null,
   "lastKernelId": null
  },
  "kernelspec": {
   "display_name": "Julia 1.1.1",
   "language": "julia",
   "name": "julia-1.1"
  },
  "language_info": {
   "file_extension": ".jl",
   "mimetype": "application/julia",
   "name": "julia",
   "version": "1.1.1"
  }
 },
 "nbformat": 4,
 "nbformat_minor": 2
}
