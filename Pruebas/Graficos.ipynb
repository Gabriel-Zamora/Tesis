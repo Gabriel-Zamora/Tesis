{
 "cells": [
  {
   "cell_type": "code",
   "execution_count": 1,
   "metadata": {},
   "outputs": [],
   "source": [
    "using Plots"
   ]
  },
  {
   "cell_type": "code",
   "execution_count": 11,
   "metadata": {},
   "outputs": [],
   "source": [
    "Z = [10,15,20,25,30,35,40,45,50]\n",
    "BB = [1125,2250,3750,5625,7875,10500,13500,16875,20625]\n",
    "CG = [325,1300,575,3225,3175,2775,3525,0,0]\n",
    "BP = [1, 20, 200, 2000, 2000, 2000, 2000, 2000,1]\n",
    "\n",
    "plot(Z,[BB CG BP],\n",
    "    label = [\"Branch and bound\",\"Column generation\",\"Branch and price\"],xlabel=\"Amount of sample points\",xticks=Z,\n",
    "#    title = ,\n",
    "    ylabel=\"Number of variables\",\n",
    "    dpi=200,lw=2,\n",
    "    background_color = :transparent,\n",
    "    legend=:bottomright)\n",
    "\n",
    "savefig(\"C:/Users/gz_am/Dropbox/u/Proyecto de Tésis/Julia JuMP 0.19/Tesis/Pruebas/var.png\")"
   ]
  },
  {
   "cell_type": "code",
   "execution_count": 12,
   "metadata": {},
   "outputs": [],
   "source": [
    "Z = [10,15,20,25,30,35,40,45,50]\n",
    "BB = [5307,17207,41272,83202,149657,248257,387582,577172,827527]\n",
    "CG = [723,6521,1387,26646,22469,14230,20661,0,0]\n",
    "BP = [1, 20, 200, 2000, 2000, 2000, 2000, 2000,1]\n",
    "\n",
    "plot(Z,[BB CG BP],\n",
    "    label = [\"Branch and bound\",\"Column generation\",\"Branch and price\"],xlabel=\"Amount of sample points\",xticks=Z,\n",
    "#    title = ,\n",
    "    ylabel=\"Number of constraints\",\n",
    "    dpi=200, lw=2,\n",
    "    background_color = :transparent,\n",
    "    legend=:bottomright)\n",
    "\n",
    "savefig(\"C:/Users/gz_am/Dropbox/u/Proyecto de Tésis/Julia JuMP 0.19/Tesis/Pruebas/res.png\")"
   ]
  },
  {
   "cell_type": "code",
   "execution_count": 13,
   "metadata": {
    "scrolled": false
   },
   "outputs": [],
   "source": [
    "Z = [10,15,20,25,30,35,40,45,50]\n",
    "BB = [0,0,0,0,0,0,0,0,0]\n",
    "CG = [4,9,5,216,56,24,46,0,0]\n",
    "BP = [0,0,0,0,0,0,0,0,0]\n",
    "\n",
    "plot(Z, BB)\n",
    "\n",
    "graf = plot(Z,[BB CG BP],\n",
    "    label = [\"Branch and bound\",\"Column generation\",\"Branch and price\"],xlabel=\"Amount of sample points\",xticks=Z,\n",
    "#    title = ,\n",
    "    ylabel=\"Computation time\",\n",
    "    dpi=200,lw=2,\n",
    "    background_color = :transparent,\n",
    "    legend=:bottomright)\n",
    "\n",
    "savefig(\"C:/Users/gz_am/Dropbox/u/Proyecto de Tésis/Julia JuMP 0.19/Tesis/Pruebas/tie.png\")"
   ]
  },
  {
   "cell_type": "code",
   "execution_count": null,
   "metadata": {},
   "outputs": [],
   "source": []
  },
  {
   "cell_type": "code",
   "execution_count": null,
   "metadata": {},
   "outputs": [],
   "source": []
  },
  {
   "cell_type": "code",
   "execution_count": null,
   "metadata": {},
   "outputs": [],
   "source": []
  },
  {
   "cell_type": "code",
   "execution_count": null,
   "metadata": {},
   "outputs": [],
   "source": []
  },
  {
   "cell_type": "code",
   "execution_count": null,
   "metadata": {},
   "outputs": [],
   "source": []
  },
  {
   "cell_type": "code",
   "execution_count": null,
   "metadata": {},
   "outputs": [],
   "source": []
  },
  {
   "cell_type": "code",
   "execution_count": null,
   "metadata": {},
   "outputs": [],
   "source": []
  }
 ],
 "metadata": {
  "@webio": {
   "lastCommId": null,
   "lastKernelId": null
  },
  "kernelspec": {
   "display_name": "Julia 1.1.0",
   "language": "julia",
   "name": "julia-1.1"
  },
  "language_info": {
   "file_extension": ".jl",
   "mimetype": "application/julia",
   "name": "julia",
   "version": "1.1.0"
  }
 },
 "nbformat": 4,
 "nbformat_minor": 2
}
