{
 "cells": [
  {
   "cell_type": "code",
   "execution_count": 1,
   "metadata": {},
   "outputs": [],
   "source": [
    "using Plots\n",
    "using StatsPlots"
   ]
  },
  {
   "cell_type": "code",
   "execution_count": null,
   "metadata": {},
   "outputs": [],
   "source": []
  },
  {
   "cell_type": "code",
   "execution_count": 25,
   "metadata": {},
   "outputs": [],
   "source": [
    "Z = [10,15,20,25,30,35,40,45,50,55,60,65,70,75,80,85,90,95,100]\n",
    "BB = log10.([315,630,1050,1575,2205,2940,3780,4725,5775,6930,8190,9555,11025,12600,14280,16065,17955,19950,22050])\n",
    "CG = log10.([112,168,231,427,427,469,539,630,672,721,756,714,945,938,1022,1099,1169,1211,1134])\n",
    "\n",
    "\n",
    "groupedbar(Z, [BB CG], #BP],\n",
    "    label = [\"Modelo integrado\" \"Column generation\"],#,\"Branch and price\"],\n",
    "    xlabel=\"Cantidad de puntos muestrales\",xticks=Z,\n",
    "#    title = ,\n",
    "    ylabel=\"Log número de variables\",\n",
    "    dpi=200,lw=2,\n",
    "    background_color = :transparent,\n",
    "    legend=:topleft)\n",
    "\n",
    "savefig(\"C:/Users/gz_am/Dropbox/u/Proyecto de Tésis/Julia JuMP 0.19/Tesis/Pruebas/var.png\")"
   ]
  },
  {
   "cell_type": "code",
   "execution_count": 22,
   "metadata": {},
   "outputs": [],
   "source": [
    "Z = [10,15,20,25,30,35,40,45,50,55,60,65,70,75,80,85,90,95,100]\n",
    "BB = log10.([1257,4157,10072,20427,36887,61357,95982,143147,205477,285837,387332,513307,667347,853277,1075162,1337307,1644257,2000797,2411952])\n",
    "CG = log10.([233,395,604,1667,1483,1662,2047,2495,2620,2942,2861,2518,4335,3930,4721,5192,5721,6020,5079])\n",
    "\n",
    "groupedbar(Z,[BB CG],# BP],\n",
    "    label = [\"Modelo integrado\" \"Column generation\"],#,\"Branch and price\"],\n",
    "    xlabel=\"Cantidad de puntos muestrales\",xticks=Z,\n",
    "#    title = ,\n",
    "    ylabel=\"Log número de restricciones\",\n",
    "    dpi=200, lw=2,\n",
    "    background_color = :transparent,\n",
    "    legend=:topleft)\n",
    "\n",
    "savefig(\"C:/Users/gz_am/Dropbox/u/Proyecto de Tésis/Julia JuMP 0.19/Tesis/Pruebas/res.png\")"
   ]
  },
  {
   "cell_type": "code",
   "execution_count": 21,
   "metadata": {
    "scrolled": false
   },
   "outputs": [],
   "source": [
    "Z = [10,15,20,25,30,35,40,45,50,55,60,65,70]\n",
    "BB = log10.([2,2,2,5,9,46,211,584,1009,5215,5091,1148,17944]) \n",
    "CG = log10.([4,4,5,9,14,13,8,9,14,23,12,98,34])\n",
    "\n",
    "plot(Z, BB)\n",
    "\n",
    "groupedbar(Z,[BB CG],# BP],\n",
    "    label = [\"Modelo integrado\" \"Column generation\"],#,\"Branch and price\"],\n",
    "    xlabel=\"Cantidad de puntos muestrales\",xticks=Z,\n",
    "#    title = ,\n",
    "    ylabel=\"Log tiempo computacional\",\n",
    "    dpi=200,lw=2,\n",
    "    background_color = :transparent,\n",
    "    legend=:topleft)\n",
    "\n",
    "savefig(\"C:/Users/gz_am/Dropbox/u/Proyecto de Tésis/Julia JuMP 0.19/Tesis/Pruebas/tie.png\")"
   ]
  },
  {
   "cell_type": "code",
   "execution_count": null,
   "metadata": {},
   "outputs": [],
   "source": []
  },
  {
   "cell_type": "code",
   "execution_count": null,
   "metadata": {},
   "outputs": [],
   "source": [
    "Z = [10,15,20,25,30,35,40,45,50,55,60,65,70,75,80,85,90,95,100]\n",
    "BB = [1125,2250,3750,5625,7875,10500,13500,16875,20625,24750,29250,34125,39375,45000,51000,57375,64125,71250,78750]\n",
    "\n",
    "\n",
    "bar(Z, BB,\n",
    "    label = \"Modelo integrado\",\n",
    "    xlabel=\"Cantidad de puntos muestrales\", xticks=Z,\n",
    "#    title = ,\n",
    "    ylabel= \"Número de variables\",\n",
    "    dpi=200,lw=2,\n",
    "    color = palette(:default)[2],\n",
    "    background_color = :transparent,\n",
    "    legend=:topleft)\n",
    "\n",
    "savefig(\"C:/Users/gz_am/Dropbox/u/Proyecto de Tésis/Julia JuMP 0.19/Tesis/Pruebas/modelvar.png\")"
   ]
  },
  {
   "cell_type": "code",
   "execution_count": null,
   "metadata": {},
   "outputs": [],
   "source": [
    "Z = [10,15,20,25,30,35,40,45,50,55,60,65,70,75,80,85,90,95,100]\n",
    "BB = [5307,17207,41272,83202,149657,248257,387582,577172,827527,1150107,1557332,2062582,2680197,3425477,4314682,5365032,6594707,8022847,9669552]\n",
    "\n",
    "\n",
    "bar(Z, BB,\n",
    "    label = \"Modelo integrado\",\n",
    "    xlabel=\"Cantidad de puntos muestrales\", xticks=Z,\n",
    "#    title = ,\n",
    "    ylabel= \"Número de restricciones\",\n",
    "    dpi=200,lw=2,\n",
    "    color = palette(:default)[2],\n",
    "    background_color = :transparent,\n",
    "    legend=:topleft)\n",
    "\n",
    "savefig(\"C:/Users/gz_am/Dropbox/u/Proyecto de Tésis/Julia JuMP 0.19/Tesis/Pruebas/modelres.png\")"
   ]
  },
  {
   "cell_type": "code",
   "execution_count": null,
   "metadata": {},
   "outputs": [],
   "source": []
  },
  {
   "cell_type": "code",
   "execution_count": null,
   "metadata": {},
   "outputs": [],
   "source": [
    "Z = [10,15,20,25,30,35,40,45,50,55,60,65,70]\n",
    "BB = [0,0,0,0,7.52,11.44,2.2,7.4,8.02,2.48,22.97,10.04,5.06]\n",
    "\n",
    "bar(Z, BB,\n",
    "    label = \"Column generation\",\n",
    "    xlabel=\"Cantidad de puntos muestrales\", xticks=Z,\n",
    "#    title = ,\n",
    "    ylabel= \"GAP %\",\n",
    "    dpi=200,lw=2,\n",
    "    color = palette(:default)[2],\n",
    "    background_color = :transparent,\n",
    "    legend=:topleft)\n",
    "\n",
    "savefig(\"C:/Users/gz_am/Dropbox/u/Proyecto de Tésis/Julia JuMP 0.19/Tesis/Pruebas/modelgap.png\")"
   ]
  }
 ],
 "metadata": {
  "@webio": {
   "lastCommId": null,
   "lastKernelId": null
  },
  "kernelspec": {
   "display_name": "Julia 1.4.2",
   "language": "julia",
   "name": "julia-1.4"
  },
  "language_info": {
   "file_extension": ".jl",
   "mimetype": "application/julia",
   "name": "julia",
   "version": "1.4.2"
  }
 },
 "nbformat": 4,
 "nbformat_minor": 2
}
